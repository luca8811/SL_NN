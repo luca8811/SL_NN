{
 "cells": [
  {
   "cell_type": "markdown",
   "metadata": {
    "colab_type": "text",
    "id": "AgaqxrCBIHWO"
   },
   "source": [
    "# Digit recognition with a CNN"
   ]
  },
  {
   "cell_type": "markdown",
   "metadata": {
    "colab_type": "text",
    "id": "qwPKXzBdsSai"
   },
   "source": [
    "Code to initiliaze Tensorflow 2.0 in Colab"
   ]
  },
  {
   "cell_type": "code",
   "execution_count": 1,
   "metadata": {
    "ExecuteTime": {
     "end_time": "2024-01-25T22:28:18.018060100Z",
     "start_time": "2024-01-25T22:28:13.684698600Z"
    },
    "colab": {},
    "colab_type": "code",
    "id": "4RHeyqF6rev2"
   },
   "outputs": [],
   "source": [
    "from __future__ import absolute_import, division, print_function, unicode_literals\n",
    "import tensorflow as tf\n",
    "import datetime\n",
    "import numpy as np\n",
    "import matplotlib.pyplot as plt\n",
    "%load_ext tensorboard"
   ]
  },
  {
   "cell_type": "markdown",
   "metadata": {
    "colab_type": "text",
    "id": "WBmnWkSRslRb"
   },
   "source": [
    "**Import the MNIST dataset. The default loader will return tensors for the train/test partitions of the images and the labels.**"
   ]
  },
  {
   "cell_type": "code",
   "execution_count": 2,
   "metadata": {
    "ExecuteTime": {
     "end_time": "2024-01-25T22:28:18.769824100Z",
     "start_time": "2024-01-25T22:28:18.022572500Z"
    },
    "colab": {},
    "colab_type": "code",
    "id": "Aizfyvfms_nt"
   },
   "outputs": [],
   "source": [
    "mnist = tf.keras.datasets.mnist\n",
    "(x_train, y_train), (x_test, y_test) = mnist.load_data()\n",
    "x_train = x_train[:, :, :, np.newaxis] / 255.0\n",
    "x_test = x_test[:, :, :, np.newaxis] / 255.0"
   ]
  },
  {
   "cell_type": "markdown",
   "metadata": {
    "colab_type": "text",
    "id": "_9TtiitutEm8"
   },
   "source": [
    "**[TODO] Check the size of the loaded tensors**"
   ]
  },
  {
   "cell_type": "code",
   "execution_count": 3,
   "metadata": {
    "ExecuteTime": {
     "end_time": "2024-01-25T22:28:18.792905600Z",
     "start_time": "2024-01-25T22:28:18.773334300Z"
    },
    "colab": {},
    "colab_type": "code",
    "id": "WlFW9kPUtpys"
   },
   "outputs": [
    {
     "name": "stdout",
     "output_type": "stream",
     "text": [
      "Training set shape: 60000\n",
      "Training labels shape: (60000,)\n",
      "Test set shape: (10000, 28, 28, 1)\n",
      "Test labels shape: (10000,)\n",
      "Number of classes: 10\n"
     ]
    }
   ],
   "source": [
    "N = np.unique(y_train).shape[0]\n",
    "N_train = x_train.shape[0]\n",
    "N_test = x_test.shape[0]\n",
    "weight = x_train.shape[1]\n",
    "height = x_train.shape[2]\n",
    "print(f'Training set shape: {N_train}')\n",
    "print(f'Training labels shape: {y_train.shape}')\n",
    "print(f'Test set shape: {x_test.shape}')\n",
    "print(f'Test labels shape: {y_test.shape}')\n",
    "print(f'Number of classes: {N}')"
   ]
  },
  {
   "cell_type": "markdown",
   "metadata": {
    "colab_type": "text",
    "id": "riIKsGjMK2KT"
   },
   "source": [
    "**Prepare Keras callback for Tensorboard**"
   ]
  },
  {
   "cell_type": "code",
   "execution_count": 4,
   "metadata": {
    "ExecuteTime": {
     "end_time": "2024-01-25T22:28:18.833802900Z",
     "start_time": "2024-01-25T22:28:18.787849200Z"
    },
    "colab": {},
    "colab_type": "code",
    "id": "Grf-GiJFK-sS"
   },
   "outputs": [],
   "source": [
    "logdir = \"logs/fit/\" + datetime.datetime.now().strftime(\"%Y%m%d-%H%M%S\")\n",
    "tensorboard_callback = tf.keras.callbacks.TensorBoard(log_dir=logdir, update_freq='batch')"
   ]
  },
  {
   "cell_type": "markdown",
   "metadata": {
    "colab_type": "text",
    "id": "IVlXyF_8xGsW"
   },
   "source": [
    "**[TODO] Define a Keras Sequential model with the convolutional neural network**"
   ]
  },
  {
   "cell_type": "code",
   "execution_count": 5,
   "metadata": {
    "ExecuteTime": {
     "end_time": "2024-01-25T22:28:18.835798800Z",
     "start_time": "2024-01-25T22:28:18.805902200Z"
    },
    "collapsed": false,
    "jupyter": {
     "outputs_hidden": false
    }
   },
   "outputs": [],
   "source": [
    "def conv_layer(features, stride, kernel_size=3, k_regularizer=None):\n",
    "    return tf.keras.layers.Conv2D(features,\n",
    "                                  kernel_size=kernel_size,\n",
    "                                  strides=(stride, stride),\n",
    "                                  padding='same',\n",
    "                                  kernel_regularizer=k_regularizer\n",
    "                                  )"
   ]
  },
  {
   "cell_type": "code",
   "execution_count": 6,
   "metadata": {
    "ExecuteTime": {
     "end_time": "2024-01-25T22:28:27.878203300Z",
     "start_time": "2024-01-25T22:28:18.821776600Z"
    },
    "collapsed": false,
    "jupyter": {
     "outputs_hidden": false
    }
   },
   "outputs": [],
   "source": [
    "# Clearing previous model\n",
    "tf.keras.backend.clear_session()\n",
    "# Building model\n",
    "model = tf.keras.models.Sequential([\n",
    "    conv_layer(32, kernel_size=5, stride=2),\n",
    "    tf.keras.layers.BatchNormalization(),\n",
    "    tf.keras.layers.Activation('relu'),\n",
    "    conv_layer(64, kernel_size=5, stride=2),\n",
    "    tf.keras.layers.BatchNormalization(),\n",
    "    tf.keras.layers.Activation('relu'),\n",
    "    tf.keras.layers.Flatten(),\n",
    "    tf.keras.layers.Dense(N, activation='softmax')\n",
    "])"
   ]
  },
  {
   "cell_type": "markdown",
   "metadata": {
    "colab_type": "text",
    "id": "L5Arv2jyxgSz"
   },
   "source": [
    "**[TODO] Compile the Keras model: specify the optimization algorithm, the loss function and the test metric**"
   ]
  },
  {
   "cell_type": "code",
   "execution_count": 7,
   "metadata": {
    "ExecuteTime": {
     "end_time": "2024-01-25T22:28:27.914549800Z",
     "start_time": "2024-01-25T22:28:27.881096800Z"
    },
    "colab": {},
    "colab_type": "code",
    "id": "JM9_th7SxlmM"
   },
   "outputs": [],
   "source": [
    "model.compile(optimizer=tf.keras.optimizers.Adam(0.01), loss='sparse_categorical_crossentropy', metrics=['accuracy'])"
   ]
  },
  {
   "cell_type": "markdown",
   "metadata": {
    "colab_type": "text",
    "id": "wgY8SK7MxmBE"
   },
   "source": [
    "**[TODO] Train the Keras model**"
   ]
  },
  {
   "cell_type": "code",
   "execution_count": 8,
   "metadata": {
    "ExecuteTime": {
     "end_time": "2024-01-25T22:28:45.006489800Z",
     "start_time": "2024-01-25T22:28:27.912543400Z"
    },
    "collapsed": false,
    "jupyter": {
     "outputs_hidden": false
    }
   },
   "outputs": [
    {
     "name": "stdout",
     "output_type": "stream",
     "text": [
      "Epoch 1/3\n",
      "938/938 [==============================] - 9s 4ms/step - loss: 0.1733 - accuracy: 0.9560\n",
      "Epoch 2/3\n",
      "938/938 [==============================] - 4s 4ms/step - loss: 0.0523 - accuracy: 0.9841\n",
      "Epoch 3/3\n",
      "938/938 [==============================] - 4s 4ms/step - loss: 0.0407 - accuracy: 0.9868\n"
     ]
    },
    {
     "data": {
      "text/plain": [
       "<keras.callbacks.History at 0x22578b0ec70>"
      ]
     },
     "execution_count": 8,
     "metadata": {},
     "output_type": "execute_result"
    }
   ],
   "source": [
    "# model.fit(x_train, y_train, batch_size=64, epochs=3, validation_data=(x_test, y_test), callbacks=[tensorboard_callback])\n",
    "model.fit(x_train, y_train, batch_size=64, epochs=3, callbacks=[tensorboard_callback])"
   ]
  },
  {
   "cell_type": "code",
   "execution_count": 9,
   "metadata": {
    "ExecuteTime": {
     "end_time": "2024-01-25T22:28:52.591656200Z",
     "start_time": "2024-01-25T22:28:45.011507100Z"
    },
    "colab": {},
    "colab_type": "code",
    "id": "H8-x6iwSxqqM"
   },
   "outputs": [
    {
     "name": "stdout",
     "output_type": "stream",
     "text": [
      "Epoch 1/3\n",
      "235/235 [==============================] - 2s 8ms/step - loss: 0.0163 - accuracy: 0.9950\n",
      "Epoch 2/3\n",
      "235/235 [==============================] - 2s 8ms/step - loss: 0.0072 - accuracy: 0.9981\n",
      "Epoch 3/3\n",
      "235/235 [==============================] - 2s 7ms/step - loss: 0.0048 - accuracy: 0.9989\n"
     ]
    },
    {
     "data": {
      "text/plain": [
       "<keras.callbacks.History at 0x225486dff40>"
      ]
     },
     "execution_count": 9,
     "metadata": {},
     "output_type": "execute_result"
    }
   ],
   "source": [
    "# model.fit(x_train, y_train, batch_size=256, epochs=3, validation_data=(x_test, y_test), callbacks=[tensorboard_callback])\n",
    "model.fit(x_train, y_train, batch_size=256, epochs=3, callbacks=[tensorboard_callback])"
   ]
  },
  {
   "cell_type": "code",
   "execution_count": 10,
   "metadata": {
    "ExecuteTime": {
     "end_time": "2024-01-25T22:28:52.617215800Z",
     "start_time": "2024-01-25T22:28:52.592658Z"
    },
    "collapsed": false,
    "jupyter": {
     "outputs_hidden": false
    }
   },
   "outputs": [],
   "source": [
    "# %tensorboard --logdir=\"D:\\Steurendo\\Programmazione\\Python\\PyCharm\\SLNN\\NN\\Lab1\\logs\\fit\\\""
   ]
  },
  {
   "cell_type": "markdown",
   "metadata": {
    "colab_type": "text",
    "id": "0QhCHMnVFWv3"
   },
   "source": [
    "**[TODO] Print model summary**"
   ]
  },
  {
   "cell_type": "code",
   "execution_count": 11,
   "metadata": {
    "ExecuteTime": {
     "end_time": "2024-01-25T22:28:52.674326700Z",
     "start_time": "2024-01-25T22:28:52.610216800Z"
    },
    "colab": {},
    "colab_type": "code",
    "id": "VqTgD3xRFaJN"
   },
   "outputs": [
    {
     "name": "stdout",
     "output_type": "stream",
     "text": [
      "Model: \"sequential\"\n",
      "_________________________________________________________________\n",
      " Layer (type)                Output Shape              Param #   \n",
      "=================================================================\n",
      " conv2d (Conv2D)             (None, 14, 14, 32)        832       \n",
      "                                                                 \n",
      " batch_normalization (BatchN  (None, 14, 14, 32)       128       \n",
      " ormalization)                                                   \n",
      "                                                                 \n",
      " activation (Activation)     (None, 14, 14, 32)        0         \n",
      "                                                                 \n",
      " conv2d_1 (Conv2D)           (None, 7, 7, 64)          51264     \n",
      "                                                                 \n",
      " batch_normalization_1 (Batc  (None, 7, 7, 64)         256       \n",
      " hNormalization)                                                 \n",
      "                                                                 \n",
      " activation_1 (Activation)   (None, 7, 7, 64)          0         \n",
      "                                                                 \n",
      " flatten (Flatten)           (None, 3136)              0         \n",
      "                                                                 \n",
      " dense (Dense)               (None, 10)                31370     \n",
      "                                                                 \n",
      "=================================================================\n",
      "Total params: 83,850\n",
      "Trainable params: 83,658\n",
      "Non-trainable params: 192\n",
      "_________________________________________________________________\n",
      "None\n"
     ]
    }
   ],
   "source": [
    "print(model.summary())"
   ]
  },
  {
   "cell_type": "markdown",
   "metadata": {
    "colab_type": "text",
    "id": "Uva5AeZrxrf0"
   },
   "source": [
    "**[TODO] Test the Keras model by computing the accuracy the whole test set**"
   ]
  },
  {
   "cell_type": "code",
   "execution_count": 12,
   "metadata": {
    "ExecuteTime": {
     "end_time": "2024-01-25T22:28:53.986497400Z",
     "start_time": "2024-01-25T22:28:52.639182300Z"
    },
    "colab": {},
    "colab_type": "code",
    "id": "5536AAv7x1Al"
   },
   "outputs": [
    {
     "name": "stdout",
     "output_type": "stream",
     "text": [
      "313/313 [==============================] - 1s 3ms/step - loss: 0.0310 - accuracy: 0.9917\n"
     ]
    },
    {
     "data": {
      "text/plain": [
       "[0.030982889235019684, 0.9916999936103821]"
      ]
     },
     "execution_count": 12,
     "metadata": {},
     "output_type": "execute_result"
    }
   ],
   "source": [
    "model.evaluate(x_test, y_test)"
   ]
  },
  {
   "cell_type": "markdown",
   "metadata": {
    "colab_type": "text",
    "id": "TJe4IZYfGxh9"
   },
   "source": [
    "**[TODO] Visualize test image number 47 and the prediction from the neural network**"
   ]
  },
  {
   "cell_type": "code",
   "execution_count": 34,
   "metadata": {
    "ExecuteTime": {
     "end_time": "2024-01-25T22:30:26.466779500Z",
     "start_time": "2024-01-25T22:30:26.296540Z"
    },
    "colab": {},
    "colab_type": "code",
    "id": "6233HLAIG98R"
   },
   "outputs": [
    {
     "name": "stdout",
     "output_type": "stream",
     "text": [
      "1/1 [==============================] - 0s 21ms/step\n"
     ]
    },
    {
     "data": {
      "image/png": "[encoded data removed]",
      "text/plain": [
       "<Figure size 640x480 with 1 Axes>"
      ]
     },
     "metadata": {},
     "output_type": "display_data"
    }
   ],
   "source": [
    "# Showing the image\n",
    "img_number = 12\n",
    "plt.figure()\n",
    "plt.imshow(x_test[img_number])\n",
    "plt.axis('off')\n",
    "oh_label = model.predict(np.array([x_test[img_number]]))\n",
    "y_hat = np.argmax(oh_label)\n",
    "plt.title(f'Predicted image: {y_hat}')\n",
    "plt.show()"
   ]
  }
 ],
 "metadata": {
  "accelerator": "GPU",
  "colab": {
   "name": "MNIST_ex1.ipynb",
   "private_outputs": true,
   "provenance": [
    {
     "file_id": "15XkgU1c9QXy292Xu7szYg_35v1_fl5fu",
     "timestamp": 1571482920216
    }
   ]
  },
  "kernelspec": {
   "display_name": "Python 3 (ipykernel)",
   "language": "python",
   "name": "python3"
  },
  "language_info": {
   "codemirror_mode": {
    "name": "ipython",
    "version": 3
   },
   "file_extension": ".py",
   "mimetype": "text/x-python",
   "name": "python",
   "nbconvert_exporter": "python",
   "pygments_lexer": "ipython3",
   "version": "3.11.2"
  }
 },
 "nbformat": 4,
 "nbformat_minor": 4
}
